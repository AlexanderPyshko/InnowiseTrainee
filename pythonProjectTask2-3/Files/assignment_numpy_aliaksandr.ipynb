{
 "cells": [
  {
   "cell_type": "markdown",
   "id": "d3df79dd",
   "metadata": {},
   "source": [
    "## Упражнения по библиотеке Numpy"
   ]
  },
  {
   "cell_type": "code",
   "execution_count": 1,
   "id": "76b9c43b",
   "metadata": {},
   "outputs": [],
   "source": [
    "import numpy as np"
   ]
  },
  {
   "cell_type": "markdown",
   "id": "03727b7c",
   "metadata": {},
   "source": [
    "**1.** Дан случайный массив, поменять знак у элементов, значения которых между 3 и 8"
   ]
  },
  {
   "cell_type": "code",
   "execution_count": 12,
   "id": "b89a7523",
   "metadata": {},
   "outputs": [
    {
     "name": "stdout",
     "output_type": "stream",
     "text": [
      "Исходный массив: [ 9  4 12  1 29 11 29  6  8 28]\n",
      "Массив после изменений: [ 9 -4 12  1 29 11 29 -6  8 28]\n"
     ]
    }
   ],
   "source": [
    "arr = np.random.randint(0, 30, size=10)\n",
    "print(\"Исходный массив:\", arr)\n",
    "arr[(arr > 3) & (arr < 8)] *= -1\n",
    "print(\"Массив после изменений:\", arr)"
   ]
  },
  {
   "cell_type": "markdown",
   "id": "5fa4abda",
   "metadata": {},
   "source": [
    "**2.** Заменить максимальный элемент случайного массива на 0"
   ]
  },
  {
   "cell_type": "code",
   "execution_count": 17,
   "id": "f2788a6e",
   "metadata": {},
   "outputs": [
    {
     "name": "stdout",
     "output_type": "stream",
     "text": [
      "Индекс максимальманого значения в массиве:  9\n",
      "Массив после замены max value на 0: [ 9 -4 12  1  0 11  0 -6  8  0]\n"
     ]
    }
   ],
   "source": [
    "max_index = np.argmax(arr)\n",
    "arr[max_index] = 0\n",
    "print(\"Индекс максимальманого значения в массиве: \", max_index)\n",
    "print(\"Массив после замены max value на 0:\", arr)"
   ]
  },
  {
   "cell_type": "markdown",
   "id": "3cac656b",
   "metadata": {},
   "source": [
    "**3.** Построить прямое произведение массивов (все комбинации с каждым элементом). На вход подается двумерный массив"
   ]
  },
  {
   "cell_type": "code",
   "execution_count": 26,
   "id": "3396b764",
   "metadata": {},
   "outputs": [
    {
     "name": "stdout",
     "output_type": "stream",
     "text": [
      "[[1 4 6]\n",
      " [1 4 7]\n",
      " [1 5 6]\n",
      " [1 5 7]\n",
      " [2 4 6]\n",
      " [2 4 7]\n",
      " [2 5 6]\n",
      " [2 5 7]\n",
      " [3 4 6]\n",
      " [3 4 7]\n",
      " [3 5 6]\n",
      " [3 5 7]]\n"
     ]
    }
   ],
   "source": [
    "# Решение найдено с помощью интернета\n",
    "def cartesian(arrays):\n",
    "    arrays = [np.asarray(a) for a in arrays]\n",
    "    shape = map(len, arrays)\n",
    "\n",
    "    ix = np.indices(shape, dtype=int)\n",
    "    ix = ix.reshape(len(arrays), -1).T\n",
    "\n",
    "    for n, arr in enumerate(arrays):\n",
    "        ix[:, n] = arrays[n][ix[:, n]]\n",
    "\n",
    "    return ix\n",
    "\n",
    "print(cartesian(([1, 2, 3], [4, 5], [6, 7])))"
   ]
  },
  {
   "cell_type": "markdown",
   "id": "674c9354",
   "metadata": {},
   "source": [
    "**4.** Даны 2 массива A (8x3) и B (2x2). Найти строки в A, которые содержат элементы из каждой строки в B, независимо от порядка элементов в B"
   ]
  },
  {
   "cell_type": "code",
   "execution_count": 19,
   "id": "cb664782",
   "metadata": {},
   "outputs": [
    {
     "name": "stdout",
     "output_type": "stream",
     "text": [
      "[0 1 2 3 4 5 6 7]\n"
     ]
    }
   ],
   "source": [
    "A = np.random.randint(0,5,(8,3))\n",
    "B = np.random.randint(0,5,(2,2))\n",
    "\n",
    "C = (A[..., np.newaxis, np.newaxis] == B)\n",
    "rows = (C.sum(axis=(1,2,3)) >= B.shape[1]).nonzero()[0]\n",
    "print(rows)"
   ]
  },
  {
   "cell_type": "markdown",
   "id": "fa46533b",
   "metadata": {},
   "source": [
    "**5.** Дана 10x3 матрица, найти строки из неравных значений (например строка [2,2,3] остается, строка [3,3,3] удаляется)"
   ]
  },
  {
   "cell_type": "code",
   "execution_count": 20,
   "id": "fa545b23",
   "metadata": {},
   "outputs": [
    {
     "name": "stdout",
     "output_type": "stream",
     "text": [
      "[[4 0 4]\n",
      " [4 1 0]\n",
      " [3 1 2]\n",
      " [1 3 2]\n",
      " [0 3 1]\n",
      " [3 0 4]\n",
      " [1 2 3]\n",
      " [2 3 4]\n",
      " [2 0 4]\n",
      " [1 4 2]]\n",
      "[[4 0 4]\n",
      " [4 1 0]\n",
      " [3 1 2]\n",
      " [1 3 2]\n",
      " [0 3 1]\n",
      " [3 0 4]\n",
      " [1 2 3]\n",
      " [2 3 4]\n",
      " [2 0 4]\n",
      " [1 4 2]]\n"
     ]
    }
   ],
   "source": [
    "Z = np.random.randint(0,5,(10,3))\n",
    "E = np.logical_and.reduce(Z[:,1:] == Z[:,:-1], axis=1)\n",
    "U = Z[~E]\n",
    "print(Z)\n",
    "print(U)"
   ]
  },
  {
   "cell_type": "markdown",
   "id": "28f0d116",
   "metadata": {},
   "source": [
    "**6.** Дан двумерный массив. Удалить те строки, которые повторяются"
   ]
  },
  {
   "cell_type": "code",
   "execution_count": 23,
   "id": "83d2c0b7",
   "metadata": {},
   "outputs": [
    {
     "name": "stdout",
     "output_type": "stream",
     "text": [
      "Исходный двумерный массив: [[1 2 3]\n",
      " [4 5 6]\n",
      " [1 2 3]\n",
      " [7 8 9]\n",
      " [4 5 6]]\n",
      "Массив после удаления повторяющихся строк:\n",
      "[[1 2 3]\n",
      " [4 5 6]\n",
      " [7 8 9]]\n"
     ]
    }
   ],
   "source": [
    "arr = np.array([[1, 2, 3],\n",
    "                [4, 5, 6],\n",
    "                [1, 2, 3],\n",
    "                [7, 8, 9],\n",
    "                [4, 5, 6]])\n",
    "unique_rows = np.unique(arr, axis=0)\n",
    "print(\"Исходный двумерный массив:\", arr)\n",
    "print(\"Массив после удаления повторяющихся строк:\")\n",
    "print(unique_rows)"
   ]
  },
  {
   "cell_type": "markdown",
   "id": "6daa9e37",
   "metadata": {},
   "source": [
    "______\n",
    "______"
   ]
  },
  {
   "cell_type": "markdown",
   "id": "cfbfcaff",
   "metadata": {},
   "source": [
    "Для каждой из следующих задач (1-5) нужно привести 2 реализации – одна без использования numpy (cчитайте, что там, где на входе или выходе должны быть numpy array, будут просто списки), а вторая полностью векторизованная с использованием numpy (без использования питоновских циклов/map/list comprehension).\n",
    "\n",
    "\n",
    "__Замечание 1.__ Можно считать, что все указанные объекты непустые (к примеру, в __задаче 1__ на диагонали матрицы есть ненулевые элементы).\n",
    "\n",
    "__Замечание 2.__ Для большинства задач решение занимает не больше 1-2 строк."
   ]
  },
  {
   "cell_type": "markdown",
   "id": "673cac7f",
   "metadata": {},
   "source": [
    "___"
   ]
  },
  {
   "cell_type": "markdown",
   "id": "ca6f585e",
   "metadata": {},
   "source": [
    "* __Задача 1__: Подсчитать произведение ненулевых элементов на диагонали прямоугольной матрицы.  \n",
    " Например, для X = np.array([[1, 0, 1], [2, 0, 2], [3, 0, 3], [4, 4, 4]]) ответ 3."
   ]
  },
  {
   "cell_type": "code",
   "execution_count": 29,
   "id": "065862fc",
   "metadata": {},
   "outputs": [
    {
     "name": "stdout",
     "output_type": "stream",
     "text": [
      "Python: 3\n",
      "Nympy: 3\n"
     ]
    }
   ],
   "source": [
    "# Python\n",
    "def diag_product_no_numpy(arr):\n",
    "    prod = 1\n",
    "    for i in range(min(len(arr), len(arr[0]))):\n",
    "        if arr[i][i] != 0:\n",
    "            prod *= arr[i][i]\n",
    "    return prod\n",
    "\n",
    "arr = [[1, 0, 1], [2, 0, 2], [3, 0, 3], [4, 4, 4]]\n",
    "print(\"Python:\", diag_product_no_numpy(arr))\n",
    "\n",
    "# Numpy\n",
    "def diag_product_numpy(arr_n):\n",
    "    return np.prod(np.diag(arr_n)[np.diag(arr_n) != 0])\n",
    "\n",
    "arr_n = np.array([[1, 0, 1], [2, 0, 2], [3, 0, 3], [4, 4, 4]])\n",
    "print(\"Nympy:\", diag_product_numpy(arr_n)) "
   ]
  },
  {
   "cell_type": "markdown",
   "id": "9fc51d41",
   "metadata": {},
   "source": [
    "* __Задача 2__: Даны два вектора x и y. Проверить, задают ли они одно и то же мультимножество.  \n",
    "  Например, для x = np.array([1, 2, 2, 4]), y = np.array([4, 2, 1, 2]) ответ True."
   ]
  },
  {
   "cell_type": "code",
   "execution_count": 32,
   "id": "a809e02f",
   "metadata": {},
   "outputs": [
    {
     "name": "stdout",
     "output_type": "stream",
     "text": [
      "Python: True\n",
      "Numpy: True\n"
     ]
    }
   ],
   "source": [
    "x = list([1, 2, 2, 4])\n",
    "y = list([4, 2, 1, 2])\n",
    "\n",
    "# Python\n",
    "def is_same_multiset_no_numpy(x, y):\n",
    "    return sorted(x) == sorted(y)\n",
    "\n",
    "# Numpy\n",
    "x = np.array([1, 2, 2, 4])\n",
    "y = np.array([4, 2, 1, 2])\n",
    "def is_same_multiset_numpy(x, y):\n",
    "    return np.array_equal(np.sort(x), np.sort(y))\n",
    "\n",
    "print(\"Python:\", is_same_multiset_no_numpy(x, y))\n",
    "print(\"Numpy:\", is_same_multiset_numpy(x, y))"
   ]
  },
  {
   "cell_type": "markdown",
   "id": "b9c185c7",
   "metadata": {},
   "source": [
    "* __Задача 3__: Найти максимальный элемент в векторе x среди элементов, перед которыми стоит ноль. \n",
    " Например, для x = np.array([6, 2, 0, 3, 0, 0, 5, 7, 0]) ответ 5."
   ]
  },
  {
   "cell_type": "code",
   "execution_count": 33,
   "id": "b57df008",
   "metadata": {},
   "outputs": [
    {
     "name": "stdout",
     "output_type": "stream",
     "text": [
      "Python: 5\n",
      "Numpy: 5\n"
     ]
    }
   ],
   "source": [
    "# Python\n",
    "x = [6, 2, 0, 3, 0, 0, 5, 7, 0]\n",
    "\n",
    "def max_after_zero_no_numpy(x):\n",
    "    max_elem = float('-inf')\n",
    "    for i in range(1, len(x)):\n",
    "        if x[i-1] == 0:\n",
    "            max_elem = max(max_elem, x[i])\n",
    "    return max_elem\n",
    "\n",
    "print(\"Python:\", max_after_zero_no_numpy(x))\n",
    "\n",
    "# Numpy\n",
    "arr = np.array([6, 2, 0, 3, 0, 0, 5, 7, 0])\n",
    "\n",
    "def max_after_zero_numpy(x):\n",
    "    return np.max(x[1:][x[:-1] == 0])\n",
    "\n",
    "print(\"Numpy:\", max_after_zero_numpy(arr))"
   ]
  },
  {
   "cell_type": "markdown",
   "id": "480be4ce",
   "metadata": {},
   "source": [
    "* __Задача 4__: Реализовать кодирование длин серий (Run-length encoding). Для некоторого вектора x необходимо вернуть кортеж из двух векторов одинаковой длины. Первый содержит числа, а второй - сколько раз их нужно повторить.  \n",
    " Например, для x = np.array([2, 2, 2, 3, 3, 3, 5]) ответ (np.array([2, 3, 5]), np.array([3, 3, 1]))."
   ]
  },
  {
   "cell_type": "code",
   "execution_count": 37,
   "id": "3c592124",
   "metadata": {},
   "outputs": [
    {
     "name": "stdout",
     "output_type": "stream",
     "text": [
      "Python: ([2, 3, 5], [3, 3, 1])\n",
      "Numpy:  (array([2, 3, 5]), array([3, 3, 1]))\n"
     ]
    }
   ],
   "source": [
    "# Python\n",
    "x = [2, 2, 2, 3, 3, 3, 5]\n",
    "\n",
    "def run_length_encoding_no_numpy(x):\n",
    "    values = []\n",
    "    counts = []\n",
    "    \n",
    "    current_value = x[0]\n",
    "    count = 1\n",
    "    \n",
    "    for i in range(1, len(x)):\n",
    "        if x[i] == current_value:\n",
    "            count += 1\n",
    "        else:\n",
    "            values.append(current_value)\n",
    "            counts.append(count)\n",
    "            current_value = x[i]\n",
    "            count = 1\n",
    "    \n",
    "    values.append(current_value)\n",
    "    counts.append(count)\n",
    "    \n",
    "    return values, counts\n",
    "\n",
    "print(\"Python:\", run_length_encoding_no_numpy(x))\n",
    "\n",
    "# Numpy\n",
    "arr = np.array([2, 2, 2, 3, 3, 3, 5])\n",
    "\n",
    "def run_length_encoding_numpy(arr):\n",
    "    diff = np.diff(arr, prepend=arr[0] - 1)\n",
    "    values = arr[diff != 0]\n",
    "    counts = np.diff(np.flatnonzero(np.r_[diff != 0, True]))\n",
    "    return values, counts\n",
    "\n",
    "print(\"Numpy: \", run_length_encoding_numpy(arr))"
   ]
  },
  {
   "cell_type": "markdown",
   "id": "077532ec",
   "metadata": {},
   "source": [
    "* __Задача 5__: Даны две выборки объектов - X и Y. Вычислить матрицу евклидовых расстояний между объектами. Сравните с функцией scipy.spatial.distance.cdist по скорости работы."
   ]
  },
  {
   "cell_type": "code",
   "execution_count": 38,
   "id": "1e807797",
   "metadata": {},
   "outputs": [
    {
     "name": "stdout",
     "output_type": "stream",
     "text": [
      "Python:  [[5.656854249492381, 8.48528137423857], [2.8284271247461903, 5.656854249492381]]\n",
      "Numpy:  [[5.65685425 8.48528137]\n",
      " [2.82842712 5.65685425]]\n"
     ]
    }
   ],
   "source": [
    "# Python\n",
    "import math\n",
    "\n",
    "X = [[1, 2], [3, 4]]\n",
    "Y = [[5, 6], [7, 8]]\n",
    "\n",
    "def euclidean_distance_matrix_no_numpy(X, Y):\n",
    "    result = []\n",
    "    for x in X:\n",
    "        row = []\n",
    "        for y in Y:\n",
    "            dist = math.sqrt(sum((xi - yi) ** 2 for xi, yi in zip(x, y)))\n",
    "            row.append(dist)\n",
    "        result.append(row)\n",
    "    return result\n",
    "\n",
    "print(\"Python: \", euclidean_distance_matrix_no_numpy(X, Y))\n",
    "\n",
    "# Numpy\n",
    "arr_X = np.array([[1, 2], [3, 4]])\n",
    "arr_Y = np.array([[5, 6], [7, 8]])\n",
    "\n",
    "def euclidean_distance_matrix_numpy(arr_X, arr_Y):\n",
    "    return np.sqrt(np.sum((arr_X[:, np.newaxis] - arr_Y) ** 2, axis=2))\n",
    "\n",
    "print(\"Numpy: \", euclidean_distance_matrix_numpy(arr_X, arr_Y))"
   ]
  },
  {
   "cell_type": "markdown",
   "id": "973e8064",
   "metadata": {},
   "source": [
    "_______\n",
    "________"
   ]
  },
  {
   "cell_type": "markdown",
   "id": "1104acb7",
   "metadata": {},
   "source": [
    "* #### __Задача 6__: CrunchieMunchies __*__\n",
    "\n",
    "Вы работаете в отделе маркетинга пищевой компании MyCrunch, которая разрабатывает новый вид вкусных, полезных злаков под названием **CrunchieMunchies**.\n",
    "\n",
    "Вы хотите продемонстрировать потребителям, насколько полезны ваши хлопья по сравнению с другими ведущими брендами, поэтому вы собрали данные о питании нескольких разных конкурентов.\n",
    "\n",
    "Ваша задача - использовать вычисления Numpy для анализа этих данных и доказать, что ваши **СrunchieMunchies** - самый здоровый выбор для потребителей.\n"
   ]
  },
  {
   "cell_type": "code",
   "execution_count": 2,
   "id": "10a77f8d",
   "metadata": {},
   "outputs": [],
   "source": [
    "import numpy as np"
   ]
  },
  {
   "cell_type": "markdown",
   "id": "ab87cb03",
   "metadata": {},
   "source": [
    "1. Просмотрите файл cereal.csv. Этот файл содержит количества калорий для различных марок хлопьев. Загрузите данные из файла и сохраните их как calorie_stats."
   ]
  },
  {
   "cell_type": "code",
   "execution_count": 3,
   "id": "9681ebf2",
   "metadata": {},
   "outputs": [
    {
     "data": {
      "text/plain": [
       "array([ 70., 120.,  70.,  50., 110., 110., 110., 130.,  90.,  90., 120.,\n",
       "       110., 120., 110., 110., 110., 100., 110., 110., 110., 100., 110.,\n",
       "       100., 100., 110., 110., 100., 120., 120., 110., 100., 110., 100.,\n",
       "       110., 120., 120., 110., 110., 110., 140., 110., 100., 110., 100.,\n",
       "       150., 150., 160., 100., 120., 140.,  90., 130., 120., 100.,  50.,\n",
       "        50., 100., 100., 120., 100.,  90., 110., 110.,  80.,  90.,  90.,\n",
       "       110., 110.,  90., 110., 140., 100., 110., 110., 100., 100., 110.])"
      ]
     },
     "execution_count": 3,
     "metadata": {},
     "output_type": "execute_result"
    }
   ],
   "source": [
    "calorie_stats = np.loadtxt(\"./data/cereal.csv\", delimiter=\",\")\n",
    "calorie_stats"
   ]
  },
  {
   "cell_type": "markdown",
   "id": "139cfbd8",
   "metadata": {},
   "source": [
    "2. В одной порции CrunchieMunchies содержится 60 калорий. Насколько выше среднее количество калорий у ваших конкурентов?\n",
    "\n",
    "Сохраните ответ в переменной average_calories и распечатайте переменную в терминале"
   ]
  },
  {
   "cell_type": "code",
   "execution_count": 11,
   "id": "7036d240",
   "metadata": {},
   "outputs": [
    {
     "data": {
      "text/plain": [
       "106.88311688311688"
      ]
     },
     "execution_count": 11,
     "metadata": {},
     "output_type": "execute_result"
    }
   ],
   "source": [
    "average_calories = np.mean(calorie_stats)\n",
    "average_calories"
   ]
  },
  {
   "cell_type": "markdown",
   "id": "b2ddb4cd",
   "metadata": {},
   "source": [
    "3. Корректно ли среднее количество калорий отражает распределение набора данных? Давайте отсортируем данные и посмотрим.\n",
    "\n",
    "Отсортируйте данные и сохраните результат в переменной calorie_stats_sorted. Распечатайте отсортированную информацию"
   ]
  },
  {
   "cell_type": "code",
   "execution_count": 13,
   "id": "46eeb4ed",
   "metadata": {},
   "outputs": [
    {
     "name": "stdout",
     "output_type": "stream",
     "text": [
      "[ 50.  50.  50.  70.  70.  80.  90.  90.  90.  90.  90.  90.  90. 100.\n",
      " 100. 100. 100. 100. 100. 100. 100. 100. 100. 100. 100. 100. 100. 100.\n",
      " 100. 100. 110. 110. 110. 110. 110. 110. 110. 110. 110. 110. 110. 110.\n",
      " 110. 110. 110. 110. 110. 110. 110. 110. 110. 110. 110. 110. 110. 110.\n",
      " 110. 110. 110. 120. 120. 120. 120. 120. 120. 120. 120. 120. 120. 130.\n",
      " 130. 140. 140. 140. 150. 150. 160.]\n"
     ]
    }
   ],
   "source": [
    "calorie_stats_sorted = np.sort(calorie_stats)\n",
    "print(calorie_stats_sorted)"
   ]
  },
  {
   "cell_type": "markdown",
   "id": "4dc74116",
   "metadata": {},
   "source": [
    "4. Похоже, что большинство значений выше среднего. Давайте посмотрим, является ли медиана наиболее корректным показателем набора данных.\n",
    "\n",
    "Вычислите медиану набора данных и сохраните свой ответ в median_calories. Выведите медиану, чтобы вы могли видеть, как она сравнивается со средним значением."
   ]
  },
  {
   "cell_type": "code",
   "execution_count": 25,
   "id": "b56627c3",
   "metadata": {},
   "outputs": [
    {
     "name": "stdout",
     "output_type": "stream",
     "text": [
      "110.0\n"
     ]
    }
   ],
   "source": [
    "median_calorie_stats = np.median(calorie_stats)\n",
    "print(median_calorie_stats)"
   ]
  },
  {
   "cell_type": "markdown",
   "id": "a63ab72f",
   "metadata": {},
   "source": [
    "5. В то время как медиана показывает, что по крайней мере половина наших значений составляет более 100 калорий, было бы более впечатляюще показать, что значительная часть конкурентов имеет более высокое количество калорий, чем CrunchieMunchies.\n",
    "\n",
    "Рассчитайте различные процентили и распечатайте их, пока не найдете наименьший процентиль, превышающий 60 калорий. Сохраните это значение в переменной nth_percentile."
   ]
  },
  {
   "cell_type": "code",
   "execution_count": 17,
   "id": "fe80ce03",
   "metadata": {},
   "outputs": [
    {
     "name": "stdout",
     "output_type": "stream",
     "text": [
      "Наименьший процентиль, превышающий 60 калорий: 70.0\n"
     ]
    }
   ],
   "source": [
    "nth_percentile = np.percentile(calorie_stats, np.arange(1, 101, 1))\n",
    "first_above_60 = np.min(nth_percentile[nth_percentile > 60])\n",
    "print(f\"Наименьший процентиль, превышающий 60 калорий: {first_above_60}\")"
   ]
  },
  {
   "cell_type": "markdown",
   "id": "a2a3c5aa",
   "metadata": {},
   "source": [
    "6. Хотя процентиль показывает нам, что у большинства конкурентов количество калорий намного выше, это неудобная концепция для использования в маркетинговых материалах.\n",
    "\n",
    "Вместо этого давайте подсчитаем процент хлопьев, в которых содержится более 60 калорий на порцию. Сохраните свой ответ в переменной more_calories и распечатайте его"
   ]
  },
  {
   "cell_type": "code",
   "execution_count": 18,
   "id": "ade0f6ea",
   "metadata": {},
   "outputs": [
    {
     "name": "stdout",
     "output_type": "stream",
     "text": [
      "Процент хлопьев с более чем 60 калориями: 96.10%\n"
     ]
    }
   ],
   "source": [
    "more_calories = np.sum(calorie_stats > 60) / len(calorie_stats) * 100\n",
    "print(f\"Процент хлопьев с более чем 60 калориями: {more_calories:.2f}%\")"
   ]
  },
  {
   "cell_type": "markdown",
   "id": "1735d65b",
   "metadata": {},
   "source": [
    "7. Это действительно высокий процент. Это будет очень полезно, когда мы будем продвигать CrunchieMunchies. Но один вопрос заключается в том, насколько велики различия в наборе данных? Можем ли мы сделать обобщение, что в большинстве злаков содержится около 100 калорий или разброс еще больше?\n",
    "\n",
    "Рассчитайте величину отклонения, найдя стандартное отклонение, Сохраните свой ответ в calorie_std и распечатайте на терминале. Как мы можем включить эту ценность в наш анализ?"
   ]
  },
  {
   "cell_type": "code",
   "execution_count": 19,
   "id": "85c8df1f",
   "metadata": {},
   "outputs": [
    {
     "data": {
      "text/plain": [
       "19.35718533390827"
      ]
     },
     "execution_count": 19,
     "metadata": {},
     "output_type": "execute_result"
    }
   ],
   "source": [
    "calorie_std = np.std(calorie_stats)\n",
    "calorie_std"
   ]
  },
  {
   "cell_type": "markdown",
   "id": "037455c5",
   "metadata": {},
   "source": [
    "8. Напишите короткий абзац, в котором кратко изложите свои выводы и то, как, по вашему мнению, эти данные могут быть использованы в интересах Mycrunch при маркетинге CrunchieMunchies."
   ]
  },
  {
   "cell_type": "code",
   "execution_count": 30,
   "id": "c260fee9",
   "metadata": {},
   "outputs": [
    {
     "name": "stdout",
     "output_type": "stream",
     "text": [
      "По данным о калориях CrunchieMunchies, среднее количество калорий составляет 106.88, \n",
      "а медиана — 110.00. Это значит, что хотя среднее значение выглядит высоким, '\n",
      "медиана показывает, что половина продуктов содержит больше калорий. Более того, 96.10% '\n",
      "конкурентов превышает 60 калорий на порцию. Это хороший аргумент для продвижения CrunchieMunchies '\n",
      "как более здорового варианта. Стандартное отклонение также показывает, что калорийность конкурентов '\n",
      "различается, что может привлечь внимание к более здоровым продуктам, таким как CrunchieMunchies.\n"
     ]
    }
   ],
   "source": [
    "print(f\"\"\"По данным о калориях CrunchieMunchies, среднее количество калорий составляет {average_calories:.2f}, \n",
    "а медиана — {median_calorie_stats:.2f}. Это значит, что хотя среднее значение выглядит высоким, '\n",
    "медиана показывает, что половина продуктов содержит больше калорий. Более того, {more_calories:.2f}% '\n",
    "конкурентов превышает 60 калорий на порцию. Это хороший аргумент для продвижения CrunchieMunchies '\n",
    "как более здорового варианта. Стандартное отклонение также показывает, что калорийность конкурентов '\n",
    "различается, что может привлечь внимание к более здоровым продуктам, таким как CrunchieMunchies.\"\"\")"
   ]
  },
  {
   "cell_type": "code",
   "execution_count": null,
   "id": "2b8eae6d",
   "metadata": {},
   "outputs": [],
   "source": []
  }
 ],
 "metadata": {
  "kernelspec": {
   "display_name": "Python 3 (ipykernel)",
   "language": "python",
   "name": "python3"
  },
  "language_info": {
   "codemirror_mode": {
    "name": "ipython",
    "version": 3
   },
   "file_extension": ".py",
   "mimetype": "text/x-python",
   "name": "python",
   "nbconvert_exporter": "python",
   "pygments_lexer": "ipython3",
   "version": "3.10.9"
  }
 },
 "nbformat": 4,
 "nbformat_minor": 5
}
